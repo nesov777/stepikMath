{
 "cells": [
  {
   "cell_type": "code",
   "execution_count": 154,
   "metadata": {
    "code_folding": []
   },
   "outputs": [],
   "source": [
    "def rotor(symbol, n, reverse=False):\n",
    "    alpha = 'ABCDEFGHIJKLMNOPQRSTUVWXYZ'\n",
    "    k = [\n",
    "        'ABCDEFGHIJKLMNOPQRSTUVWXYZ', 'EKMFLGDQVZNTOWYHXUSPAIBRCJ',\n",
    "        'AJDKSIRUXBLHWTMCQGZNPYFVOE', 'BDFHJLCPRTXVZNYEIWGAKMUSQO'\n",
    "    ]\n",
    "    if reverse:\n",
    "        alphabet, key = k[n], alpha\n",
    "    else:\n",
    "        alphabet, key = alpha, k[n]\n",
    "    if symbol in key:\n",
    "        return key[alphabet.find(symbol)]\n",
    "    else:\n",
    "        return\n",
    "\n",
    "\n",
    "def reflector(symbol, n):\n",
    "    key = [\n",
    "        'AY', 'BR', 'CU', 'DH', 'EQ', 'FS', 'GL', 'IP', 'JX', 'KN', 'MO', 'TZ',\n",
    "        'VW'\n",
    "    ]\n",
    "    for el in key:\n",
    "        if symbol in el:\n",
    "            return el[(el.find(symbol) + n) % 2]\n",
    "\n",
    "\n",
    "def com(symbol, pairs):\n",
    "    for el in pairs:\n",
    "        if symbol in el.upper():\n",
    "            return el[(el.find(symbol) + 1) % 2]\n",
    "    return symbol\n",
    "\n",
    "\n",
    "def caesar(symbol, shift):\n",
    "    alphabet = 'ABCDEFGHIJKLMNOPQRSTUVWXYZ'\n",
    "    return alphabet[(alphabet.find(symbol) + shift) % 26]\n",
    "\n",
    "\n",
    "def not_verified(pairs):\n",
    "    if len(pairs) > 0:\n",
    "        if len(set(pairs)) < len(pairs):\n",
    "            return True\n",
    "        else:\n",
    "            return False\n",
    "\n",
    "\n",
    "def enigma(text, ref, rot1, shift1, rot2, shift2, rot3, shift3, pairs=''):\n",
    "    code = ''\n",
    "    rotors = [rot3, rot2, rot1]\n",
    "    shift = [shift3, shift2, shift1]\n",
    "    d = {1: 17, 2: 5, 3: 22}\n",
    "    if type(pairs) is str:\n",
    "        p = []\n",
    "        p.append(pairs.split(' '))\n",
    "        pairs = p\n",
    "    pairs2 = ''.join(pairs)\n",
    "    if not_verified(pairs2):\n",
    "        return 'Извините, невозможно произвести коммутацию'\n",
    "    for sr in text.upper():\n",
    "        if sr.isalpha():\n",
    "            s = com(sr, pairs) if len(pairs) else sr\n",
    "            if shift[1] % 26 == d[rotors[1]] - 1:\n",
    "                shift[2] += 1\n",
    "                shift[1] += 1\n",
    "            if shift[0] % 26 == d[rotors[0]] - 1:\n",
    "                shift[1] += 1\n",
    "            shift[0] += 1\n",
    "            shifts = [\n",
    "                shift[0] % 26, shift[1] % 26 - shift[0] % 26,\n",
    "                shift[2] % 26 - shift[1] % 26\n",
    "            ]\n",
    "            for i, j in zip(rotors, shifts):\n",
    "                s = caesar(s, j)\n",
    "                s = rotor(s, i)\n",
    "            s = caesar(s, -shift[2] % 26)\n",
    "            s = reflector(s, ref)\n",
    "            s = caesar(s, shift[2] % 26)\n",
    "            for i, j in zip(rotors[::-1], shifts[::-1]):\n",
    "                s = rotor(s, i, True)\n",
    "                s = caesar(s, -j)\n",
    "            print(s, pairs)\n",
    "            s = com(s, pairs) if len(pairs) else s\n",
    "            print(s)\n",
    "            code += s\n",
    "    return code"
   ]
  },
  {
   "cell_type": "code",
   "execution_count": 155,
   "metadata": {},
   "outputs": [
    {
     "ename": "TypeError",
     "evalue": "sequence item 0: expected str instance, list found",
     "output_type": "error",
     "traceback": [
      "\u001b[1;31m---------------------------------------------------------------------------\u001b[0m",
      "\u001b[1;31mTypeError\u001b[0m                                 Traceback (most recent call last)",
      "\u001b[1;32m<ipython-input-155-f43070598d64>\u001b[0m in \u001b[0;36m<module>\u001b[1;34m\u001b[0m\n\u001b[1;32m----> 1\u001b[1;33m \u001b[0menigma\u001b[0m\u001b[1;33m(\u001b[0m\u001b[1;34m'A'\u001b[0m\u001b[1;33m,\u001b[0m \u001b[1;36m1\u001b[0m\u001b[1;33m,\u001b[0m \u001b[1;36m1\u001b[0m\u001b[1;33m,\u001b[0m \u001b[1;36m0\u001b[0m\u001b[1;33m,\u001b[0m \u001b[1;36m2\u001b[0m\u001b[1;33m,\u001b[0m \u001b[1;36m0\u001b[0m\u001b[1;33m,\u001b[0m \u001b[1;36m3\u001b[0m\u001b[1;33m,\u001b[0m \u001b[1;36m0\u001b[0m\u001b[1;33m,\u001b[0m \u001b[1;34m'AC qd'\u001b[0m\u001b[1;33m)\u001b[0m\u001b[1;33m\u001b[0m\u001b[1;33m\u001b[0m\u001b[0m\n\u001b[0m",
      "\u001b[1;32m<ipython-input-154-1a23c43bfb92>\u001b[0m in \u001b[0;36menigma\u001b[1;34m(text, ref, rot1, shift1, rot2, shift2, rot3, shift3, pairs)\u001b[0m\n\u001b[0;32m     47\u001b[0m         \u001b[0mp\u001b[0m\u001b[1;33m.\u001b[0m\u001b[0mappend\u001b[0m\u001b[1;33m(\u001b[0m\u001b[0mpairs\u001b[0m\u001b[1;33m.\u001b[0m\u001b[0msplit\u001b[0m\u001b[1;33m(\u001b[0m\u001b[1;34m' '\u001b[0m\u001b[1;33m)\u001b[0m\u001b[1;33m)\u001b[0m\u001b[1;33m\u001b[0m\u001b[1;33m\u001b[0m\u001b[0m\n\u001b[0;32m     48\u001b[0m         \u001b[0mpairs\u001b[0m \u001b[1;33m=\u001b[0m \u001b[0mp\u001b[0m\u001b[1;33m\u001b[0m\u001b[1;33m\u001b[0m\u001b[0m\n\u001b[1;32m---> 49\u001b[1;33m     \u001b[0mpairs2\u001b[0m \u001b[1;33m=\u001b[0m \u001b[1;34m''\u001b[0m\u001b[1;33m.\u001b[0m\u001b[0mjoin\u001b[0m\u001b[1;33m(\u001b[0m\u001b[0mpairs\u001b[0m\u001b[1;33m)\u001b[0m\u001b[1;33m\u001b[0m\u001b[1;33m\u001b[0m\u001b[0m\n\u001b[0m\u001b[0;32m     50\u001b[0m     \u001b[1;32mif\u001b[0m \u001b[0mnot_verified\u001b[0m\u001b[1;33m(\u001b[0m\u001b[0mpairs2\u001b[0m\u001b[1;33m)\u001b[0m\u001b[1;33m:\u001b[0m \u001b[1;32mreturn\u001b[0m \u001b[1;34m'Извините, невозможно произвести коммутацию'\u001b[0m\u001b[1;33m\u001b[0m\u001b[1;33m\u001b[0m\u001b[0m\n\u001b[0;32m     51\u001b[0m     \u001b[1;32mfor\u001b[0m \u001b[0msr\u001b[0m \u001b[1;32min\u001b[0m \u001b[0mtext\u001b[0m\u001b[1;33m.\u001b[0m\u001b[0mupper\u001b[0m\u001b[1;33m(\u001b[0m\u001b[1;33m)\u001b[0m\u001b[1;33m:\u001b[0m\u001b[1;33m\u001b[0m\u001b[1;33m\u001b[0m\u001b[0m\n",
      "\u001b[1;31mTypeError\u001b[0m: sequence item 0: expected str instance, list found"
     ]
    }
   ],
   "source": [
    "enigma('A', 1, 1, 0, 2, 0, 3, 0, 'AC qd')"
   ]
  },
  {
   "cell_type": "code",
   "execution_count": 24,
   "metadata": {},
   "outputs": [],
   "source": [
    "pairs = ['AB', 'CD', 'EF', 'JK', 'AX']"
   ]
  },
  {
   "cell_type": "code",
   "execution_count": 14,
   "metadata": {},
   "outputs": [
    {
     "name": "stdout",
     "output_type": "stream",
     "text": [
      "ABCDEFJK\n"
     ]
    }
   ],
   "source": [
    "print(symbol.join(pairs))"
   ]
  },
  {
   "cell_type": "code",
   "execution_count": 126,
   "metadata": {},
   "outputs": [],
   "source": [
    "pairs = 'AB'"
   ]
  },
  {
   "cell_type": "code",
   "execution_count": 156,
   "metadata": {},
   "outputs": [],
   "source": [
    "if type(pairs) is str:\n",
    "    p = []\n",
    "    p.append(pairs)\n",
    "\n",
    "    p = []\n",
    "    p.append(pairs)\n",
    "    pairs = p"
   ]
  },
  {
   "cell_type": "code",
   "execution_count": 129,
   "metadata": {},
   "outputs": [
    {
     "name": "stdout",
     "output_type": "stream",
     "text": [
      "['AB']\n"
     ]
    }
   ],
   "source": [
    "print(pairs)"
   ]
  },
  {
   "cell_type": "code",
   "execution_count": 56,
   "metadata": {},
   "outputs": [],
   "source": [
    "pairs[0][:1]"
   ]
  },
  {
   "cell_type": "code",
   "execution_count": 25,
   "metadata": {},
   "outputs": [
    {
     "name": "stdout",
     "output_type": "stream",
     "text": [
      "9 10\n"
     ]
    }
   ],
   "source": [
    "if len(pairs) > 0:\n",
    "    if len(set(''.join(pairs))) < len(''.join(pairs)):\n",
    "        print(len(set(''.join(pairs))), len(''.join(pairs)))\n",
    "        a = True\n",
    "    else:\n",
    "        a = False"
   ]
  },
  {
   "cell_type": "code",
   "execution_count": 26,
   "metadata": {},
   "outputs": [
    {
     "data": {
      "text/plain": [
       "True"
      ]
     },
     "execution_count": 26,
     "metadata": {},
     "output_type": "execute_result"
    }
   ],
   "source": [
    "a"
   ]
  },
  {
   "cell_type": "code",
   "execution_count": null,
   "metadata": {},
   "outputs": [],
   "source": []
  }
 ],
 "metadata": {
  "hide_input": false,
  "kernelspec": {
   "display_name": "Python 3",
   "language": "python",
   "name": "python3"
  },
  "language_info": {
   "codemirror_mode": {
    "name": "ipython",
    "version": 3
   },
   "file_extension": ".py",
   "mimetype": "text/x-python",
   "name": "python",
   "nbconvert_exporter": "python",
   "pygments_lexer": "ipython3",
   "version": "3.6.7"
  },
  "toc": {
   "base_numbering": 1,
   "nav_menu": {},
   "number_sections": true,
   "sideBar": true,
   "skip_h1_title": false,
   "title_cell": "Table of Contents",
   "title_sidebar": "Contents",
   "toc_cell": false,
   "toc_position": {},
   "toc_section_display": true,
   "toc_window_display": false
  },
  "varInspector": {
   "cols": {
    "lenName": 16,
    "lenType": 16,
    "lenVar": 40
   },
   "kernels_config": {
    "python": {
     "delete_cmd_postfix": "",
     "delete_cmd_prefix": "del ",
     "library": "var_list.py",
     "varRefreshCmd": "print(var_dic_list())"
    },
    "r": {
     "delete_cmd_postfix": ") ",
     "delete_cmd_prefix": "rm(",
     "library": "var_list.r",
     "varRefreshCmd": "cat(var_dic_list()) "
    }
   },
   "types_to_exclude": [
    "module",
    "function",
    "builtin_function_or_method",
    "instance",
    "_Feature"
   ],
   "window_display": false
  }
 },
 "nbformat": 4,
 "nbformat_minor": 2
}
