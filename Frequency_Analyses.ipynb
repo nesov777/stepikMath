{
 "cells": [
  {
   "cell_type": "code",
   "execution_count": 54,
   "metadata": {},
   "outputs": [
    {
     "name": "stdout",
     "output_type": "stream",
     "text": [
      "(0.05619260085490065, {'А': 0.07487359310611394, 'Б': 0.01973801391233123, 'В': 0.04266149366723575, 'Г': 0.01703236719248865, 'Д': 0.029520992692451693, 'Е': 0.0837393418965699, 'Ж': 0.010569349009040229, 'З': 0.01583524271456457, 'И': 0.0691072819821861, 'Й': 0.011519293938890915, 'К': 0.03395204959100266, 'Л': 0.050384642880077934, 'М': 0.028538332822414823, 'Н': 0.06588546620607262, 'О': 0.11512145118628007, 'П': 0.029079946832163875, 'Р': 0.05131520117870718, 'С': 0.05616428231297051, 'Т': 0.06303199642316654, 'У': 0.025541886634250603, 'Ф': 0.0024960287697607325, 'Х': 0.00930679465074378, 'Ц': 0.0027347266666747443, 'Ч': 0.012852124835365093, 'Ш': 0.007159725242969014, 'Щ': 0.0034326453906466776, 'Ъ': 0.0002205229301439094, 'Ы': 0.02154097061592539, 'Ь': 0.020358386111417392, 'Э': 0.003353887201309567, 'Ю': 0.004666119802110962, 'Я': 0.018265841603952934})\n"
     ]
    }
   ],
   "source": [
    "def freq_analysys(file_name, alphabet = 'АБВГДЕЖЗИЙКЛМНОПРСТУФХЦЧШЩЪЫЬЭЮЯ'):\n",
    "    import os.path\n",
    "    from collections import Counter\n",
    "    if not (os.path.isfile(file_name)):\n",
    "        print('File '+file_name+' is absent. Can not continue.')\n",
    "        return\n",
    "    with open(file_name, 'r', encoding='utf-8') as file:\n",
    "        text = file.read()\n",
    "        count = Counter(s for s in text.upper() if s in alphabet)\n",
    "        l = [count.get(el) for el in alphabet]\n",
    "        s = sum(l)\n",
    "        ci = sum(list(map(lambda x: (x / s) ** 2, l)))\n",
    "        freq = dict(zip(alphabet, map(lambda x: x/s, l)))\n",
    "\n",
    "    return ci, freq\n",
    "\n",
    "if __name__ == '__main__':\n",
    "    print(freq_analysys('island.txt'))\n",
    "    \n"
   ]
  },
  {
   "cell_type": "code",
   "execution_count": 14,
   "metadata": {},
   "outputs": [
    {
     "name": "stderr",
     "output_type": "stream",
     "text": [
      "d:\\ProgramData\\Anaconda3\\envs\\Anaconda3\\lib\\site-packages\\ipykernel_launcher.py:22: MatplotlibDeprecationWarning: Adding an axes using the same arguments as a previous axes currently reuses the earlier instance.  In a future version, a new instance will always be created and returned.  Meanwhile, this warning can be suppressed, and the future behavior ensured, by passing a unique label to each axes instance.\n"
     ]
    },
    {
     "data": {
      "image/png": "[encoded data removed]",
      "text/plain": [
       "<Figure size 512x384 with 1 Axes>"
      ]
     },
     "metadata": {
      "needs_background": "light"
     },
     "output_type": "display_data"
    }
   ],
   "source": [
    "#!/usr/bin/env python3\n",
    "# vim: set ai et ts=4 sw=4:\n",
    "\n",
    "import matplotlib as mpl\n",
    "import matplotlib.pyplot as plt\n",
    "import matplotlib.dates as mdates\n",
    "import datetime as dt\n",
    "import csv\n",
    "\n",
    "data_names = ['cafe', 'pharmacy', 'fuel', 'bank', 'waste_disposal',\n",
    "              'atm', 'bench', 'parking', 'restaurant',\n",
    "              'place_of_worship']\n",
    "data_values = [9124, 8652, 7592, 7515, 7041, 6487, 6374, 6277,\n",
    "               5092, 3629]\n",
    "\n",
    "dpi = 80\n",
    "fig = plt.figure(dpi = dpi, figsize = (512 / dpi, 384 / dpi) )\n",
    "mpl.rcParams.update({'font.size': 10})\n",
    "\n",
    "plt.title('OpenStreetMap Point Types')\n",
    "\n",
    "ax = plt.axes()\n",
    "ax.yaxis.grid(True, zorder = 1)\n",
    "\n",
    "xs = range(len(data_names))\n",
    "\n",
    "plt.bar([x + 0.05 for x in xs], [ d * 0.9 for d in data_values],\n",
    "        width = 0.2, color = 'red', alpha = 0.7, label = '2016',\n",
    "        zorder = 2)\n",
    "plt.bar([x + 0.3 for x in xs], data_values,\n",
    "        width = 0.2, color = 'blue', alpha = 0.7, label = '2017',\n",
    "        zorder = 2)\n",
    "plt.xticks(xs, data_names)\n",
    "\n",
    "import astropy.constants\n",
    "\n",
    "plt.legend(loc='upper right')\n",
    "fig.savefig('bars.png')"
   ]
  },
  {
   "cell_type": "code",
   "execution_count": null,
   "metadata": {},
   "outputs": [],
   "source": []
  }
 ],
 "metadata": {
  "hide_input": false,
  "kernelspec": {
   "display_name": "Python 3",
   "language": "python",
   "name": "python3"
  },
  "language_info": {
   "codemirror_mode": {
    "name": "ipython",
    "version": 3
   },
   "file_extension": ".py",
   "mimetype": "text/x-python",
   "name": "python",
   "nbconvert_exporter": "python",
   "pygments_lexer": "ipython3",
   "version": "3.6.7"
  },
  "toc": {
   "base_numbering": 1,
   "nav_menu": {},
   "number_sections": true,
   "sideBar": true,
   "skip_h1_title": false,
   "title_cell": "Table of Contents",
   "title_sidebar": "Contents",
   "toc_cell": false,
   "toc_position": {},
   "toc_section_display": true,
   "toc_window_display": false
  },
  "varInspector": {
   "cols": {
    "lenName": 16,
    "lenType": 16,
    "lenVar": 40
   },
   "kernels_config": {
    "python": {
     "delete_cmd_postfix": "",
     "delete_cmd_prefix": "del ",
     "library": "var_list.py",
     "varRefreshCmd": "print(var_dic_list())"
    },
    "r": {
     "delete_cmd_postfix": ") ",
     "delete_cmd_prefix": "rm(",
     "library": "var_list.r",
     "varRefreshCmd": "cat(var_dic_list()) "
    }
   },
   "types_to_exclude": [
    "module",
    "function",
    "builtin_function_or_method",
    "instance",
    "_Feature"
   ],
   "window_display": false
  }
 },
 "nbformat": 4,
 "nbformat_minor": 2
}
