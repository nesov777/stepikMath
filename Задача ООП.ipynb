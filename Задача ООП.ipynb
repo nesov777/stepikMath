{
 "cells": [
  {
   "cell_type": "markdown",
   "metadata": {},
   "source": [
    "Лаборатория\n",
    "Создайте класс, осуществляющий подсчет и изменение числа книг. Названия книг, их количество считываются одной строкой вида 'Boogeyman 66 Battleground 50', число книг - произвольное.\n",
    "В классе должен быть реализован конструктор, деструктор, методы просмотра числа, взятия и возвращения книг.\n",
    "Реализовать вывод начальных значений, взятие по 1 книге, возвращение по 1 книге с выводом текущего числа после вызова каждого из методов, меняющих значение книг.\n",
    "Типичный ответ одной строкой: 'Boogeyman 66 65 66 Battleground 50 49 50'.\n",
    "\n",
    "Пример входных данных:\n",
    "Boogeyman 66 Battleground 50\n",
    "\n",
    "Пример выходных данных:\n",
    "Boogeyman 66 65 66 Battleground 50 49 50\n"
   ]
  },
  {
   "cell_type": "code",
   "execution_count": 45,
   "metadata": {},
   "outputs": [
    {
     "name": "stdout",
     "output_type": "stream",
     "text": [
      "Boogeyman 66 Battleground 50\n",
      "Boogeyman 66 65 66 Battleground 50 49 50\n"
     ]
    }
   ],
   "source": [
    "class Books(object):\n",
    "    \n",
    "    \n",
    "    def __init__(self, s):\n",
    "        self.d = {}\n",
    "        l = s.split()\n",
    "        for i in range(0, len(l), 2):\n",
    "            self.d.update({l[i]:int(l[i+1])})\n",
    "            \n",
    "            \n",
    "    def getbooks(self, s):\n",
    "        return str(self.d[s])\n",
    "    \n",
    "    \n",
    "    def takebook(self, s):\n",
    "        self.d[s] -= 1\n",
    "        return str(self.d[s])\n",
    "    \n",
    "    \n",
    "    def putbook(self, s):\n",
    "        self.d[s] += 1\n",
    "        return str(self.d[s])        \n",
    "    \n",
    "    def __del__(self):\n",
    "        pass\n",
    "        \n",
    "        \n",
    "data_str = input()\n",
    "a = Books(data_str)\n",
    "l2 = data_str.split()\n",
    "s2 = ''\n",
    "for j in range(0, len(l2), 2):\n",
    "    s2 += l2[j] + ' ' + a.getbooks(l2[j]) + ' ' + a.takebook(l2[j]) + ' ' + a.putbook(l2[j]) + ' '\n",
    "print(s2[:len(s2)-1])\n",
    "del(a)\n",
    "       \n",
    "\n"
   ]
  },
  {
   "cell_type": "code",
   "execution_count": 46,
   "metadata": {},
   "outputs": [],
   "source": [
    "a = Books('roma 56 paris 19 moscow 5')\n"
   ]
  },
  {
   "cell_type": "code",
   "execution_count": 34,
   "metadata": {},
   "outputs": [
    {
     "data": {
      "text/plain": [
       "5"
      ]
     },
     "execution_count": 34,
     "metadata": {},
     "output_type": "execute_result"
    }
   ],
   "source": [
    "a.getbooks('moscow')"
   ]
  },
  {
   "cell_type": "code",
   "execution_count": 41,
   "metadata": {},
   "outputs": [
    {
     "ename": "NameError",
     "evalue": "name 'str' is not defined",
     "output_type": "error",
     "traceback": [
      "\u001b[1;31m---------------------------------------------------------------------------\u001b[0m",
      "\u001b[1;31mNameError\u001b[0m                                 Traceback (most recent call last)",
      "\u001b[1;32m<ipython-input-41-55aa2e299218>\u001b[0m in \u001b[0;36m<module>\u001b[1;34m\u001b[0m\n\u001b[1;32m----> 1\u001b[1;33m \u001b[1;32mdel\u001b[0m\u001b[1;33m(\u001b[0m\u001b[0mstr\u001b[0m\u001b[1;33m)\u001b[0m\u001b[1;33m\u001b[0m\u001b[1;33m\u001b[0m\u001b[0m\n\u001b[0m",
      "\u001b[1;31mNameError\u001b[0m: name 'str' is not defined"
     ]
    }
   ],
   "source": [
    "del(str)"
   ]
  },
  {
   "cell_type": "code",
   "execution_count": null,
   "metadata": {},
   "outputs": [],
   "source": []
  }
 ],
 "metadata": {
  "kernelspec": {
   "display_name": "Python 3",
   "language": "python",
   "name": "python3"
  },
  "language_info": {
   "codemirror_mode": {
    "name": "ipython",
    "version": 3
   },
   "file_extension": ".py",
   "mimetype": "text/x-python",
   "name": "python",
   "nbconvert_exporter": "python",
   "pygments_lexer": "ipython3",
   "version": "3.7.4"
  }
 },
 "nbformat": 4,
 "nbformat_minor": 2
}
